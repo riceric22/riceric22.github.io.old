{
 "cells": [
  {
   "cell_type": "markdown",
   "metadata": {},
   "source": [
    "# A Quick Practitioner's Guide to Tensors\n",
    "\n",
    "by Eric Wong"
   ]
  },
  {
   "cell_type": "markdown",
   "metadata": {},
   "source": [
    "## Introduction\n",
    "\n",
    "### Two approaches to teaching linear algebra\n",
    "\n",
    "This notebook serves as a basic introduction to tensors from a practitioners perspective. What does this mean? In many math departments, there often exists multiple levels of linear algebra. For example, at CMU there is\n",
    "\n",
    "* 21-241 \"Matrices and Linear Transformations\" - typically aimed at undergraduates that need a working level of linear algebra for their application field, e.g. engineering. This usually takes the approach of teaching linear algebra from the perspective of matrices and vectors of numbers, explaining their operations, properties, and their decompositions. \n",
    "* 21-341 \"Linear Algebra\" - usually taken by math majors/minors. This focuses more on a mathematically rigorous treatment of linear algebra over arbitrary fields, focusing on abstract linear transformations and their corresponding operations, properties, and decompositions. \n",
    "\n",
    "Both courses have their respective strengths: for many people, working with matrix operations is sufficient for their application, and the former course is more than enough. The latter course gives a more abstract perspective which, while providing a more fundamental understanding in how these operations work, is not directly necessary when performing matrix computations. \n",
    "\n",
    "However, when we move on from matrices to tensors, it is easy to find a number of resources from the more mathematical point of view, but more difficult to find a resource that shows how to use tensors from a working perspective. References on tensors tend to explain tensors as linear functionals on vector spaces and dual vector spaces, which automatically assumes a more mathematically rigorous understanding of linear algebra. \n",
    "\n",
    "### Why tensors? Tensor differential calculus!\n",
    "\n",
    "Why do we need tensors, you might ask? Everything is simple and easy to understand with matrix operations, you might say! I find this tensor algebra (and consequently this notebook) to be highly motivated by matrix differential calculus. With respect to matrix differential calculus, there are resources from both of the two above perspectives. \n",
    "\n",
    "* The commonly used and referenced <a href=\"http://www2.imm.dtu.dk/pubdb/views/edoc_download.php/3274/pdf/imm3274.pdf\">Matrix Cookbook</a> by Kaare Brandt Petersen and Michael Syskind Pedersen contains all the identities and facts about matrices (and consequently matrix derivatives) you would ever use in practice. \n",
    "* For a more mathematical background, one can read <a href=\"http://www.janmagnus.nl/misc/mdc2007-3rdedition\">Matrix Differential Calculus with Applications in Statistics and Econometrics</a> by Jan R. Magnus and Heinz Neudecker. \n",
    "\n",
    "The major limitation of these resources is that they focus primarily on scalar or vector valued functions, with derivatives with respect to scalars or vectors. What happens when you want to take a derivative of a vector valued function with respect to a matrix parameter? Or take a derivative of a matrix valued function with respect to a vector parameter? A very natural extension to higher dimensions of the Jacobian, which is the partial derivatives of a vector valued function, is to have a tensor of partial derivatives. The matrix cookbook avoids this by using elementwise partial derivatives, while the book on matrix differential calculus side-steps the whole idea of tensor differential calculus by simply vectorizing the function inputs and outputs to only work with 2-D Jacobian matrices. \n",
    "\n",
    "While it is possible to turn tensors into combinations of matrix and vector operations, I believe this to be an unnecessary extra step for the practitioner. Sometimes, it can be more clear to derive your equations using tensors instead of being mangled by a number of `vec` and `kronecker` operations to turn it into 2-D calculus. With the usage of differential notation, we can get very clear and elegant derivations. \n",
    "\n",
    "### Optimization problems\n",
    "\n",
    "The intended use case for this is (but is not limited to) optimization. Standard solutions to optimization problems, $\\min_\\theta f(\\theta)$, usually involve some variation of gradient descent, where the parameters $\\theta \\in \\mathbb{R}^k$ is iteratively updated with the equation \n",
    "\n",
    "$$\\theta = \\theta - \\alpha \\nabla f(\\theta)$$ \n",
    "\n",
    "where the gradient is usually derived from the problem at hand. For example, the canonical least squares problem, \n",
    "\n",
    "$$\\min_\\theta \\frac{1}{2}||X\\theta - y||^2$$\n",
    "\n",
    "can be solved with gradient descent by iteratively updating with the following gradient: \n",
    "\n",
    "$$\\nabla \\frac{1}{2}||X\\theta - y||^2 = X^T(X\\theta - y)$$\n",
    "\n",
    "Calculating this gradient for various problems is where matrix differential calculus is typically used. With more problems involving higher dimensional outputs and inputs, this is an opportunity to use tensor differential calculus to simplify all of our derivations. "
   ]
  },
  {
   "cell_type": "markdown",
   "metadata": {},
   "source": [
    "# Scalars to Vectors to Matrices to Tensors\n",
    "\n",
    "We begin with an brief overview of vector and matrix algebra, leading up to tensor algebra. These will be accompanied with code examples for the practitioner using Numpy. "
   ]
  },
  {
   "cell_type": "code",
   "execution_count": 1,
   "metadata": {
    "collapsed": false
   },
   "outputs": [],
   "source": [
    "import numpy as np"
   ]
  },
  {
   "cell_type": "markdown",
   "metadata": {},
   "source": [
    "## Scalars \n",
    "\n",
    "Scalars are simply any real number. For example, all of the following are scalars: \n",
    "\n",
    "* 0\n",
    "* 1.5\n",
    "* 9,001\n",
    "* -23.23\n",
    "* $\\pi$\n"
   ]
  },
  {
   "cell_type": "code",
   "execution_count": 2,
   "metadata": {
    "collapsed": false
   },
   "outputs": [
    {
     "name": "stdout",
     "output_type": "stream",
     "text": [
      "0 1.5 9001 -23.23 3.141592653589793\n"
     ]
    }
   ],
   "source": [
    "a = 0\n",
    "b = 1.5 \n",
    "c = 9001\n",
    "d = -23.23\n",
    "e = np.pi\n",
    "print(a,b,c,d,e)"
   ]
  },
  {
   "cell_type": "markdown",
   "metadata": {},
   "source": [
    "## Vectors \n",
    "\n",
    "Vectors are finite sequences of scalars, often organized as a 'row vector' or 'column vector'. The key is that there is one dimension, and an index into this dimension provides the scalar at that position. For example, if we have a vector\n",
    "    \n",
    "    x = [0, 10, 21, 8, 1]\n",
    "\n",
    "Then (using 0 indexing) the value `x[2] = 21`. "
   ]
  },
  {
   "cell_type": "code",
   "execution_count": 3,
   "metadata": {
    "collapsed": false
   },
   "outputs": [
    {
     "name": "stdout",
     "output_type": "stream",
     "text": [
      "[ 1.  1.  1.  1.  1.]\n",
      "[ 0 10 21  8  1] 21\n"
     ]
    }
   ],
   "source": [
    "print(np.ones(5))\n",
    "x = np.array([0, 10, 21, 8, 1])\n",
    "print (x, x[2])"
   ]
  },
  {
   "cell_type": "markdown",
   "metadata": {},
   "source": [
    "## Matrices\n",
    "\n",
    "Matrices are finite sequences of vectors of the same size. The key is that there are now 2 dimensions: 1 dimension to designate which vector in the sequence, and 1 dimension to designate the scalar in that dimension. In other words, its a 2D grid of numbers; a vector can be seen as a 1D grid of numbers. For example, if we have a matrix\n",
    "\n",
    "    X = [[0, 1, 2],\n",
    "         [3, 4, 5]]\n",
    "\n",
    "Then `X[0] = [0 1 2]` and `X[0,1] = X[0][1] = 1`. "
   ]
  },
  {
   "cell_type": "code",
   "execution_count": 4,
   "metadata": {
    "collapsed": false,
    "scrolled": true
   },
   "outputs": [
    {
     "name": "stdout",
     "output_type": "stream",
     "text": [
      "[[ 1.  1.  1.  1.  1.  1.]\n",
      " [ 1.  1.  1.  1.  1.  1.]\n",
      " [ 1.  1.  1.  1.  1.  1.]\n",
      " [ 1.  1.  1.  1.  1.  1.]\n",
      " [ 1.  1.  1.  1.  1.  1.]]\n",
      "[[0 1 2]\n",
      " [3 4 5]] [0 1 2] 1 1\n"
     ]
    }
   ],
   "source": [
    "print(np.ones((5,6)))\n",
    "X = np.array([[0, 1, 2],\n",
    "              [3, 4, 5]])\n",
    "print(X, X[0], X[0,1], X[0][1])"
   ]
  },
  {
   "cell_type": "markdown",
   "metadata": {},
   "source": [
    "## 3-D Tensors\n",
    "\n",
    "Now we move on past the cushy realm of matrices. However, this is again quite similar to before. A 3-D tensor is simply a finite sequence of matrices of the same size. The key is that there are now 3 dimensions: 1 dimension to designate which matrix, and 2 dimensions to designate the scalar in that matrix. In other words, its just a 3D grid of numbers. For example, consider the following two matrices\n",
    "    \n",
    "    M1 = [[ 0, 1,  2,  3],\n",
    "          [ 4, 5,  6,  7],\n",
    "          [ 8, 9, 10, 11]]\n",
    "    M2 = [[12, 13, 14, 15],\n",
    "          [16, 17, 18, 19],\n",
    "          [20, 21, 22, 23]]\n",
    "\n",
    "We can form a tensor by simply making the sequence of these two matrices: \n",
    "\n",
    "    T =  [M1, M2]\n",
    "      =  [[[ 0,  1,  2,  3],\n",
    "           [ 4,  5,  6,  7],\n",
    "           [ 8,  9, 10, 11]],\n",
    "          [[12, 13, 14, 15],\n",
    "           [16, 17, 18, 19],\n",
    "           [20, 21, 22, 23]]]"
   ]
  },
  {
   "cell_type": "code",
   "execution_count": 5,
   "metadata": {
    "collapsed": false
   },
   "outputs": [
    {
     "name": "stdout",
     "output_type": "stream",
     "text": [
      "[[[ 0  1  2  3]\n",
      "  [ 4  5  6  7]\n",
      "  [ 8  9 10 11]]\n",
      "\n",
      " [[12 13 14 15]\n",
      "  [16 17 18 19]\n",
      "  [20 21 22 23]]]\n"
     ]
    }
   ],
   "source": [
    "M1 = np.array([[ 0,  1,  2,  3],\n",
    "               [ 4,  5,  6,  7],\n",
    "               [ 8,  9, 10, 11]])\n",
    "M2 = np.array([[12, 13, 14, 15],\n",
    "               [16, 17, 18, 19],\n",
    "               [20, 21, 22, 23]])\n",
    "T = np.array([M1, M2])\n",
    "print(T)"
   ]
  },
  {
   "cell_type": "markdown",
   "metadata": {},
   "source": [
    "## N-D Tensors\n",
    "Lastly, we can generalize to arbitrary dimensions. An N-D tensor is a finite sequence of (N-1)-D tensors of the same size. There are N diemnsions: 1 dimension to designate which (N-1)-D tensor, and N-1 dimensions to denote the scalar in that (N-1)-D tensor. Again, this is simply an N-dimensional grid of numbers. We can form an N-D tensor by making a sequence of (N-1)-D tensors. \n"
   ]
  },
  {
   "cell_type": "code",
   "execution_count": 6,
   "metadata": {
    "collapsed": false
   },
   "outputs": [
    {
     "name": "stdout",
     "output_type": "stream",
     "text": [
      "[[[[  0   1   2   3]\n",
      "   [  4   5   6   7]\n",
      "   [  8   9  10  11]]\n",
      "\n",
      "  [[ 12  13  14  15]\n",
      "   [ 16  17  18  19]\n",
      "   [ 20  21  22  23]]]\n",
      "\n",
      "\n",
      " [[[  0  -1  -2  -3]\n",
      "   [ -4  -5  -6  -7]\n",
      "   [ -8  -9 -10 -11]]\n",
      "\n",
      "  [[-12 -13 -14 -15]\n",
      "   [-16 -17 -18 -19]\n",
      "   [-20 -21 -22 -23]]]]\n"
     ]
    }
   ],
   "source": [
    "T0_3D = T.copy()\n",
    "T1_3D = T.copy()*(-1)\n",
    "T_4D = np.array([T0_3D, T1_3D])\n",
    "print(T_4D)"
   ]
  },
  {
   "cell_type": "markdown",
   "metadata": {},
   "source": [
    "Note that using this nomenclature, we can say that a matrix is just a 2-D tensor, a vector is a 1-D tensor, and a scalar is a 0-D tensor. "
   ]
  },
  {
   "cell_type": "markdown",
   "metadata": {},
   "source": [
    "# Tensor Operations\n",
    "\n",
    "\n",
    "This is all fairly straightforward: we're just making grids of numbers with more dimensions. But how do we do algebra with these tensors? First, we will introduce some notation that is modeled after the notation used in Python's Numpy library. \n",
    "\n",
    "* Let T be a tensor. Then, T[i1, i2, ..., ik] is the (i1, i2, .., ik)th element of the Tensor. We can replace indices with slices to indicate that we want all elements along that dimension. The number of unfixed dimensions will determine the dimension of the resulting sub-tensor. \n",
    "* E.g. T[0,:,2] will fix the 0th and 2th dimension indices to be 0 and 2 respectively, and return all the elements along the 1th dimension, resulting in a 1D tensor (vector). \n",
    "\n",
    "## Vector operations\n",
    "\n",
    "With vectors, recall we have scalar multiplication and vector dot product:\n",
    "\n",
    "* For any vector v, and scalar a, we can calculate a\\*v with element-wise multiplication by a: \n",
    "        (a\\*v)[i] = a\\*v[i]\n",
    "* If v1 and v2 have the same dimension k, we can calculate the dot product of v1 and v2, we will designate this as dot(v1,v2). \n",
    "        dot(v1,v2) = v1[0]*v2[0] + .. + v1[k]*v2[k]\n"
   ]
  },
  {
   "cell_type": "code",
   "execution_count": 7,
   "metadata": {
    "collapsed": false
   },
   "outputs": [
    {
     "name": "stdout",
     "output_type": "stream",
     "text": [
      "[0 1 2 3 4] [0 1 2 3 4] 30\n"
     ]
    }
   ],
   "source": [
    "v1 = np.arange(5)\n",
    "v2 = np.arange(5)\n",
    "print(v1, v2, np.dot(v1, v2))"
   ]
  },
  {
   "cell_type": "markdown",
   "metadata": {},
   "source": [
    "## Matrix operations\n",
    "\n",
    "Also recall your standard dot matrix operations: \n",
    "\n",
    "* For any matrix M and scalar a, we can calculate a\\*v with element-wise multiplication by a.\n",
    "        \n",
    "        (a\\* M)[i,j] = a\\*M[i,j]\n",
    "\n",
    "* If M1 is n by k and v is a k length vector, we can do the normal matrix-vector multiplication as the dot product of the rows of M1 with v.\n",
    "        dot(M1, v)[i] = dot(M1[i,:],v)\n",
    "        \n",
    "  Alternatively, if M1 is k by n and v is a k length vector, we can do a 'left multiply' as the dot product of v with the rows of M1. \n",
    "        dot(v, M1)[i] = dot(v, M1[:,i])\n",
    "\n",
    "* If M1 is n by k and M2 is k by m, then we can perform the usual matrix multiplication as the dot product of the rows of M1 with the columns of M2. In numpy, this is called the dot operation as well. \n",
    "\n",
    "        dot(M1, M2)[i,j] = dot(M1[i,:], M2[:,j])\n",
    "        \n",
    "  Note that the colon is used to designate a slice across an entire axis, and we provide an index into one dimension which reduces the matrix to a vector. "
   ]
  },
  {
   "cell_type": "code",
   "execution_count": 8,
   "metadata": {
    "collapsed": false,
    "scrolled": true
   },
   "outputs": [
    {
     "name": "stdout",
     "output_type": "stream",
     "text": [
      "[[ 5.  5.  5.]\n",
      " [ 5.  5.  5.]]\n",
      "[ 3.  3.]\n",
      "[ 1.  1.  1.]\n",
      "[[ 6.  9.]\n",
      " [ 6.  9.]]\n"
     ]
    }
   ],
   "source": [
    "a = 5\n",
    "M1 = np.ones((2,3))\n",
    "M2 = np.arange(6).reshape(3,2)\n",
    "v1 = np.arange(3)\n",
    "v2 = np.arange(2)\n",
    "print(a*M1)\n",
    "print(np.dot(M1,v1))\n",
    "print(np.dot(v2, M1))\n",
    "print(np.dot(M1, M2))"
   ]
  },
  {
   "cell_type": "markdown",
   "metadata": {},
   "source": [
    "Note that the order here matters. Let's try to be more specific in what is actually going on here. \n",
    "\n",
    "### vecdot\n",
    "For notational simplicity, we'll use `vecdot` to denote the the normal dot product of the vectorized inputs. Specifically: \n",
    "\n",
    "    vecdot(T1, T2) = dot(vec(T1), vec(T2))\n",
    "    \n",
    "The reason is because the normal dot product has different semantics based on the inputs. The `vecdot` operator allows us to have a general dot operation that works the same across all different types of inputs. \n",
    "\n",
    "Note that if `T1=v1` and `T2=v2` are both 1D tensors (vectors), then, it is equivalent to the normal dot product: \n",
    " \n",
    "    vecdot(v1, v2) = dot(v1,v2)\n",
    "    \n",
    "Also note that if `T1=T2=M1` is a matrix, then this is just the squared Frobenius norm. \n",
    "\n",
    "    vecdot(M1, M1) = ||M1||_F^2\n",
    "    \n",
    "Note that in Numpy, this operation is called `ravel`. "
   ]
  },
  {
   "cell_type": "code",
   "execution_count": 9,
   "metadata": {
    "collapsed": false
   },
   "outputs": [
    {
     "name": "stdout",
     "output_type": "stream",
     "text": [
      "[[0 1]\n",
      " [2 3]\n",
      " [4 5]]\n",
      "[[ 1.  1.]\n",
      " [ 1.  1.]\n",
      " [ 1.  1.]]\n",
      "15.0\n"
     ]
    }
   ],
   "source": [
    "def vecdot(T1, T2):\n",
    "    return np.dot(np.ravel(T1), np.ravel(T2))\n",
    "T1 = np.arange(6).reshape(3,2)\n",
    "T2 = np.ones((3,2))\n",
    "print(T1)\n",
    "print(T2)\n",
    "print(vecdot(T1,T2))"
   ]
  },
  {
   "cell_type": "markdown",
   "metadata": {},
   "source": [
    "### tensordot\n",
    "\n",
    "Now we're ready to define tensordot, which will be slightly different from a dot product but generalize to arbitrary dimensions. It will have the following signature: \n",
    "\n",
    "    tensordot(T1, T2, axes=(L1, L2))\n",
    "        T1 : D1 dimensional Tensor\n",
    "        T2 : D2 dimensional Tensor \n",
    "        L1 : list of k dimensions (axes), a subset of size k of range(D1)\n",
    "        L2 : list of k dimensions (axes), a subset of size k of range(D2)\n",
    "\n",
    "At a high level, it is simply doing a 'dot product' over the specified dimensions, keeping all the other dimensions fixed. Without loss of generality, let's assume that the specified dimensions `L1 = (i1, ..., ik)` and `L2 = (j1, ... jk)` are the last in the list of dimensions (they do not necessarily have to, but in the definition it is notationally nicer). Then if `n1=(D1-k)` and `n2=(D2-k)` are the number of remaining dimensions in the two tensors, we have\n",
    "\n",
    "    tensordot(T1, T2, (L1, L2))[a1, ..., an1 , b1, ..., bn2] \n",
    "        = vecdot(T1[a1, ..., an1, :, .... :], T2[b1, ..., bn2, :, ..., :])\n",
    "        \n",
    "where the slices are over the specified dimensions. If the specified dimensions are not at the end, then we just rearrange the slices and the fixed axes. For the purposes of this guide, we will refer to the two sets of dimensions: \n",
    "\n",
    "* static dimensions: these are the unspecified dimensions, `(a1, ..., an1)` and `(b1, ..., bn2)`. These determine the output tensor's shape. \n",
    "* collapsed dimensions: these are the specified dimensions `L1` and `L2`. The `vecdot` operation is done over these dimensions, and so these dimensions are lost from the tensor. "
   ]
  },
  {
   "cell_type": "code",
   "execution_count": 10,
   "metadata": {
    "collapsed": false
   },
   "outputs": [
    {
     "name": "stdout",
     "output_type": "stream",
     "text": [
      "[[[ 0  1  2  3]\n",
      "  [ 4  5  6  7]\n",
      "  [ 8  9 10 11]]\n",
      "\n",
      " [[12 13 14 15]\n",
      "  [16 17 18 19]\n",
      "  [20 21 22 23]]]\n",
      "[ 1.  1.  1.]\n",
      "[[ 12.  15.  18.  21.]\n",
      " [ 48.  51.  54.  57.]]\n"
     ]
    }
   ],
   "source": [
    "from itertools import product\n",
    "\n",
    "def tensordot(T1, T2, axes=()):\n",
    "    if(len(axes) != 2):\n",
    "        raise ValueError(\"L1 and L2 must have equal length (found {} and {}).\".format(len(L1), len(L2)))\n",
    "    L1, L2 = axes\n",
    "    # get lists of static dimensions\n",
    "    T1_rdim = [d for d in range(T1.ndim) if d not in L1]\n",
    "    T2_rdim = [d for d in range(T2.ndim) if d not in L2]\n",
    "    \n",
    "    # get shapes of static dimensions, this is the shape of the output\n",
    "    T1_rshape = [T1.shape[d] for d in T1_rdim]\n",
    "    T2_rshape = [T2.shape[d] for d in T2_rdim]\n",
    "    \n",
    "    # initialize the tensor\n",
    "    T = np.zeros(tuple(T1.shape[d] for d in T1_rdim) + tuple(T2.shape[d] for d in T2_rdim))\n",
    "    \n",
    "    # Initialize the indices to T1 and T2\n",
    "    T1_index = [slice(None,None,None)]*T1.ndim\n",
    "    T2_index = [slice(None,None,None)]*T2.ndim\n",
    "    \n",
    "    for t1 in product(*[range(n) for n in T1_rshape]):\n",
    "        for t2 in product(*[range(n) for n in T2_rshape]):\n",
    "            # for each scalar in the output tensor, construct the appropriate \n",
    "            # indexing and calculate the vecdot value. \n",
    "            for i in range(len(T1_rdim)):\n",
    "                T1_index[T1_rdim[i]] = t1[i]\n",
    "            for i in range(len(T2_rdim)):\n",
    "                T2_index[T2_rdim[i]] = t2[i]\n",
    "            T[t1+t2] = vecdot(T1[tuple(T1_index)], T2[tuple(T2_index)])\n",
    "    return T\n",
    "\n",
    "T1 = np.arange(24).reshape(2,3,4)\n",
    "T2 = np.ones(3)\n",
    "print(T1)\n",
    "print(T2)\n",
    "print(tensordot(T1,T2, ([1], [0])))"
   ]
  },
  {
   "cell_type": "markdown",
   "metadata": {},
   "source": [
    "What does this mean? Let's go over some known examples first."
   ]
  },
  {
   "cell_type": "markdown",
   "metadata": {},
   "source": [
    "### Example: Vector dot product\n",
    "\n",
    "For example, recall the vector dot product over vectors `v1` and `v2`. Note that since they are both vectors, each one only has 1 dimension: the 0th dimension. Thus: \n",
    "\n",
    "    tensordot(v1, v2, (0,), (0,)) = vecdot(v1[:], v2[:]) = dot(v1, v2)\n",
    "\n",
    "Very naturally, we get the original vector dot product! So a tensor dot product of two vectors along the 0th axis is the same as the original vector dot product. Since there is only one dimension available in each vector, there is only one other option, to specify no indices at all: \n",
    "\n",
    "    tensordot(v1, v2, (), ())[i,j] = vecdot(v1[i], v2[j]) = outer(v1, v2)\n",
    "    \n",
    "This should also be a familiar operation: the outer product. While I think this should just be treated as a subcase of the matrix product, I bring it up here to show all the possible cases with two vectors. "
   ]
  },
  {
   "cell_type": "code",
   "execution_count": 11,
   "metadata": {
    "collapsed": false
   },
   "outputs": [
    {
     "name": "stdout",
     "output_type": "stream",
     "text": [
      "6.0 6.0\n",
      "[[ 0.  1.  2.  3.]\n",
      " [ 0.  1.  2.  3.]\n",
      " [ 0.  1.  2.  3.]\n",
      " [ 0.  1.  2.  3.]]\n",
      "[[ 0.  1.  2.  3.]\n",
      " [ 0.  1.  2.  3.]\n",
      " [ 0.  1.  2.  3.]\n",
      " [ 0.  1.  2.  3.]]\n"
     ]
    }
   ],
   "source": [
    "v1 = np.ones(4)\n",
    "v2 = np.arange(4)\n",
    "print(np.dot(v1, v2), tensordot(v1, v2, ([0], [0])))\n",
    "print(np.outer(v1, v2))\n",
    "print(tensordot(v1, v2, ([], [])))"
   ]
  },
  {
   "cell_type": "markdown",
   "metadata": {},
   "source": [
    "### Example: Matrix vector product\n",
    "\n",
    "Now lets go to the matrix vector product. Recall that we can 'left multiply' and 'right multiply' by a vector with `dot(v,M)` and `dot(M,v)`. However, this is the same as just picking an axis of `M`, and taking the dot product with `v`!\n",
    "\n",
    "    tensordot(M, v), (0,), ())[a] = vecdot(M[:,a], v) = dot(v, M)[a]\n",
    "    tensordot(M, v), (1,), ())[a] = vecdot(M[a,:], v) = dot(M, a)[a]\n",
    "    \n",
    "Notice that we no longer have to worry about the order of `M` and `v`: we just need to specify what axis to perform the tensordot operation. "
   ]
  },
  {
   "cell_type": "code",
   "execution_count": 12,
   "metadata": {
    "collapsed": false
   },
   "outputs": [
    {
     "name": "stdout",
     "output_type": "stream",
     "text": [
      "[  9.  12.  15.]\n",
      "[  9.  12.  15.]\n",
      "[  3.  12.  21.]\n",
      "[  3.  12.  21.]\n"
     ]
    }
   ],
   "source": [
    "M = np.arange(9).reshape(3,3)\n",
    "v = np.ones(3)\n",
    "print(np.dot(v, M))\n",
    "print(tensordot(M, v, ([0], [0])))\n",
    "print(np.dot(M,v))\n",
    "print(tensordot(M, v, ([1], [0])))"
   ]
  },
  {
   "cell_type": "markdown",
   "metadata": {},
   "source": [
    "### Example: Matrix matrix product\n",
    "Finally, lets consider the matrix matrix product `M1 x M2` where `M1` is `n` by `k` and `M2` is `k` by `n`. Again, we have an option of left and right multiplying these matrices. But in the end, we see the same story: we can do the same thing with a `tensordot` operation and specifying the correct dimension. \n",
    "    \n",
    "    tensordot(M1, M2, (1,), (0,))[a,b] = vecdot(M1[a,:], M2[:,b])[a,b] = dot(M1,M2)[a,b]\n",
    "    tensordot(M2, M1, (1,), (0,))[a,b] = vecdot(M2[a,:], M1[:,b])[a,b] = dot(M2,M1)[a,b]\n",
    "    tensordot(M1, M2, (0,), (1,))[a,b] = vecdot(M1[:,a], M2[b,:])[a,b] = dot(M2,M1).T[a,b]\n",
    "    tensordot(M2, M1, (0,), (1,))[a,b] = vecdot(M2[:,a], M1[b,:])[a,b] = dot(M1,M2).T[a,b]"
   ]
  },
  {
   "cell_type": "code",
   "execution_count": 13,
   "metadata": {
    "collapsed": false
   },
   "outputs": [
    {
     "name": "stdout",
     "output_type": "stream",
     "text": [
      "[[  4.0139503    3.11342795   3.68340257]\n",
      " [ 12.99379631  11.55017701  14.44738323]\n",
      " [ 21.97364231  19.98692607  25.2113639 ]]\n",
      "[[  4.0139503    3.11342795   3.68340257]\n",
      " [ 12.99379631  11.55017701  14.44738323]\n",
      " [ 21.97364231  19.98692607  25.2113639 ]]\n",
      "[[  8.60060478  10.32619726  12.05178973  13.7773822 ]\n",
      " [  6.82273861   8.332686     9.84263339  11.35258078]\n",
      " [  8.52590728  10.65388605  12.78186483  14.90984361]\n",
      " [  6.01545972   7.69708501   9.3787103   11.0603356 ]]\n",
      "[[  8.60060478  10.32619726  12.05178973  13.7773822 ]\n",
      " [  6.82273861   8.332686     9.84263339  11.35258078]\n",
      " [  8.52590728  10.65388605  12.78186483  14.90984361]\n",
      " [  6.01545972   7.69708501   9.3787103   11.0603356 ]]\n"
     ]
    }
   ],
   "source": [
    "M1 = np.arange(12).reshape(3,4)\n",
    "M2 = np.random.random((4,3))\n",
    "print(np.dot(M1,M2))\n",
    "print(tensordot(M1, M2, ([1], [0])))\n",
    "print(np.dot(M2,M1))\n",
    "print(tensordot(M2, M1, (([1], [0]))))"
   ]
  },
  {
   "cell_type": "code",
   "execution_count": 14,
   "metadata": {
    "collapsed": false
   },
   "outputs": [
    {
     "name": "stdout",
     "output_type": "stream",
     "text": [
      "[[  8.60060478   6.82273861   8.52590728   6.01545972]\n",
      " [ 10.32619726   8.332686    10.65388605   7.69708501]\n",
      " [ 12.05178973   9.84263339  12.78186483   9.3787103 ]\n",
      " [ 13.7773822   11.35258078  14.90984361  11.0603356 ]]\n",
      "[[  8.60060478   6.82273861   8.52590728   6.01545972]\n",
      " [ 10.32619726   8.332686    10.65388605   7.69708501]\n",
      " [ 12.05178973   9.84263339  12.78186483   9.3787103 ]\n",
      " [ 13.7773822   11.35258078  14.90984361  11.0603356 ]]\n",
      "[[  4.0139503   12.99379631  21.97364231]\n",
      " [  3.11342795  11.55017701  19.98692607]\n",
      " [  3.68340257  14.44738323  25.2113639 ]]\n",
      "[[  4.0139503   12.99379631  21.97364231]\n",
      " [  3.11342795  11.55017701  19.98692607]\n",
      " [  3.68340257  14.44738323  25.2113639 ]]\n"
     ]
    }
   ],
   "source": [
    "print(np.dot(M2,M1).T)\n",
    "print(tensordot(M1, M2, ([0], [1])))\n",
    "print(np.dot(M1,M2).T)\n",
    "print(tensordot(M2, M1, ([0], [1])))"
   ]
  },
  {
   "cell_type": "markdown",
   "metadata": {},
   "source": [
    "**A note on transposes: ** Here, we notice that swapping the arguments of the tensordot operation resulted in the transpose operation. This is because of the ordering of the dimensions: so far we've always listed the dimensions of the first tensor followed by that of the second tensor. Thus, swapping matrix arguments reverses the order of the two dimensions, which is equivalent to doing a transpose. "
   ]
  },
  {
   "cell_type": "markdown",
   "metadata": {},
   "source": [
    "### Example: Frobenius norm\n",
    "Recall that the `vecdot` of a matrix with itself is the squared Frobenius norm. We can rewrite this using the `tensordot` operation as follows: \n",
    "\n",
    "    tensordot(M, M, (0, 1), (0, 1)) = vecdot(M[:,:], M[:,:]) = ||M||_F^2\n",
    "    \n",
    "As a sneak peak towards the future, the ability to take a `vecdot` product along multiple axis instead of just one will be extremely valuable when calculating differentials. "
   ]
  },
  {
   "cell_type": "code",
   "execution_count": 15,
   "metadata": {
    "collapsed": false
   },
   "outputs": [
    {
     "name": "stdout",
     "output_type": "stream",
     "text": [
      "55.0 55\n"
     ]
    }
   ],
   "source": [
    "M = np.arange(6).reshape(2,3)\n",
    "print(tensordot(M, M, ([0,1], [0,1])), np.sum(M*M))"
   ]
  },
  {
   "cell_type": "markdown",
   "metadata": {},
   "source": [
    "### Example: tensor tensor products\n",
    "We are now ready to look at an example of a tensor tensor product. By specifying the axes for which to do a dot product, we proceed in exactly the same manner as before, with simply more dimensions. Furthermore, it turns out numpy also has `tensordot` built in as a function, so you can use that one instead of the one coded earlier (which is inefficient). \n",
    "\n",
    "The only interface difference is that instead of always, passing two lists of of axes, the 3rd argument has two options: \n",
    "\n",
    "* if it is a two-tuple of lists of dimensions, proceed as usual\n",
    "* if it is an integer k, then infer the lists of dimensions to be the last k dimensions of T1 and the first k dimensions of T2. "
   ]
  },
  {
   "cell_type": "code",
   "execution_count": 16,
   "metadata": {
    "collapsed": false
   },
   "outputs": [
    {
     "name": "stdout",
     "output_type": "stream",
     "text": [
      "[[  28.   28.]\n",
      " [  92.   92.]\n",
      " [ 156.  156.]]\n",
      "[[  28.   28.]\n",
      " [  92.   92.]\n",
      " [ 156.  156.]]\n"
     ]
    }
   ],
   "source": [
    "T1 = np.arange(24).reshape(3,2,4)\n",
    "T2 = np.ones((2,4,2))\n",
    "print(tensordot(T1, T2, ([1,2], [2,1])))\n",
    "print(np.tensordot(T1, T2, axes=([1,2], [2,1])))"
   ]
  },
  {
   "cell_type": "code",
   "execution_count": 17,
   "metadata": {
    "collapsed": false
   },
   "outputs": [
    {
     "name": "stdout",
     "output_type": "stream",
     "text": [
      "[[  28.   28.]\n",
      " [  92.   92.]\n",
      " [ 156.  156.]]\n",
      "[[  28.   28.]\n",
      " [  92.   92.]\n",
      " [ 156.  156.]]\n"
     ]
    }
   ],
   "source": [
    "print(tensordot(T1, T2, ([1,2], [0,1])))\n",
    "print(np.tensordot(T1, T2, 2))"
   ]
  },
  {
   "cell_type": "markdown",
   "metadata": {
    "collapsed": true
   },
   "source": [
    "## Notation\n",
    "\n",
    "In Latex we will refer to `tensordot` as a normal dot with a $T$ subscript, $\\cdot_T$. \n",
    "\n",
    "In general, we will assume the case where `axes=k=\\min(T1.ndim, T2.ndim)`. In other words, unless otherwise specified, the `tensordot` will occur over as many dimensions as possible following the semantics used by Numpy (the last `k` dimensions of `T1` matched with the first `k` dimensions of `T2`. \n",
    "\n",
    "As a preview, this will manifest itself as $\\mathrm df = T_1 \\cdot_T \\mathrm dT_2$, where \n",
    "\n",
    "* $f$ is a tensor valued function that takes tensor valued arguments \n",
    "* $T_1$ is a tensor of partial derivatives \n",
    "* $\\mathrm dT_2$ is the differential of the arguments to $f$\n",
    "\n",
    "## Tensordot properties\n",
    "\n",
    "Lastly, we cover a few properties of `tensordot`. First we start with the case where the tensor is a matrix.  \n",
    "\n",
    "* Transpose invariant: $M_1^T\\cdot_T M_2^T = M_1 \\cdot_T M_2$ (e.g. swapping the axes of two two matrices doesn't change the `tensordot` value). \n",
    "* Inner/outer product relation: $x^TMy = y\\cdot_T (x\\cdot_T M)= xy^T \\cdot_T M$ (this is why a lot of tensor references define Tensors as linear functions, functions from vector spaces to scalars)\n",
    "\n",
    "These can both be fairly quickly verified by writing out the definitions. Of course, the tensor variants work as well. Let $\\otimes$ be an outer product, then: \n",
    "\n",
    "* Transpose invariant: $T_1^T\\cdot_T T_2^T = T_1 \\cdot_T T_2$ (where the transpose here refers to some reordering of the axes). \n",
    "* Inner/outer product relation: $(x_k \\cdot_T (\\dots(x_1\\cdot_T M))) = (x_1 \\otimes \\dots \\otimes x_k) \\cdot_T M$ (for a $k$ dimensional tensor, taking the dot product with a sequence of $k$ vectors is equivalent to taking the `tensordot` with the tensor formed by the outer product of the vectors). \n",
    "\n",
    "This last one is actually even more general, can works with products of tensors instead of just vectors. \n",
    "\n",
    "* Inner/outer product relation: $(T_k \\cdot_T (\\dots(T_1\\cdot_T T))) = (T_1 \\otimes \\dots \\otimes T_k) \\cdot_T T$ "
   ]
  },
  {
   "cell_type": "markdown",
   "metadata": {
    "collapsed": true
   },
   "source": [
    "## Rearranging expressions\n",
    "Lastly, sometimes we'll want to rearrange matrix expressions as a tensordot expression. For matrix calculations, note that\n",
    "\n",
    "$$ABC = A\\otimes C \\cdot_T^{2,3} B$$\n",
    "\n",
    "where the tensor dot product is taken over axes 2 and 3. By doing so, we can pull out B as a tensor product, which will be useful in the next section in taking differentials of tensor functions. Implementation wise, this is achieved by either passing the axes to the tensordot function, or just rolling axis 3 to position 1. "
   ]
  },
  {
   "cell_type": "code",
   "execution_count": 18,
   "metadata": {
    "collapsed": false
   },
   "outputs": [
    {
     "name": "stdout",
     "output_type": "stream",
     "text": [
      "[[-0.4224138   6.40899401 -2.32408953 -7.30785294 -3.98510189]\n",
      " [-0.03417072 -1.90771482  0.4846674   1.79865584  0.94313621]]\n",
      "[[-0.4224138   6.40899401 -2.32408953 -7.30785294 -3.98510189]\n",
      " [-0.03417072 -1.90771482  0.4846674   1.79865584  0.94313621]]\n",
      "[[-0.4224138   6.40899401 -2.32408953 -7.30785294 -3.98510189]\n",
      " [-0.03417072 -1.90771482  0.4846674   1.79865584  0.94313621]]\n"
     ]
    }
   ],
   "source": [
    "A = np.random.randn(2,3)\n",
    "B = np.random.randn(3,4)\n",
    "C = np.random.randn(4,5)\n",
    "print(A.dot(B).dot(C))\n",
    "print(np.tensordot(np.multiply.outer(A,C),B, axes=([1,2],[0,1])))\n",
    "print(np.tensordot(np.rollaxis(np.multiply.outer(A,C),3,1),B))"
   ]
  },
  {
   "cell_type": "code",
   "execution_count": null,
   "metadata": {
    "collapsed": true
   },
   "outputs": [],
   "source": []
  }
 ],
 "metadata": {
  "anaconda-cloud": {},
  "kernelspec": {
   "display_name": "py35",
   "language": "python",
   "name": "py35"
  },
  "language_info": {
   "codemirror_mode": {
    "name": "ipython",
    "version": 3
   },
   "file_extension": ".py",
   "mimetype": "text/x-python",
   "name": "python",
   "nbconvert_exporter": "python",
   "pygments_lexer": "ipython3",
   "version": "3.5.2"
  }
 },
 "nbformat": 4,
 "nbformat_minor": 0
}
